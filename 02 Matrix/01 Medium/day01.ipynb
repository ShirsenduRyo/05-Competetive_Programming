{
 "cells": [
  {
   "cell_type": "code",
   "execution_count": 2,
   "metadata": {},
   "outputs": [],
   "source": [
    "from typing import List\n",
    "from collections import Counter"
   ]
  },
  {
   "cell_type": "code",
   "execution_count": 3,
   "metadata": {},
   "outputs": [],
   "source": [
    "class Solution:\n",
    "    def maxIncreaseKeepingSkyline(self, grid: List[List[int]]) -> int:\n",
    "        n = len(grid)\n",
    "        \n",
    "        rowMax = [max(row) for row in grid]\n",
    "        \n",
    "        colMax = [max(grid[r][c] for r in range(n)) for c in range(n)]\n",
    "        \n",
    "        total_increase = 0\n",
    "        for r in range(n):\n",
    "            for c in range(n):\n",
    "                allowed = min(rowMax[r], colMax[c])\n",
    "                total_increase += allowed - grid[r][c]\n",
    "        \n",
    "        return total_increase\n",
    "    \n",
    "    def canMakeSquare(self, grid: List[List[str]]) -> bool:\n",
    "        try:\n",
    "            # top_left\n",
    "            tl = [grid[0][0], grid[0][1], grid[1][0], grid[1][1]]\n",
    "            tl_c = dict(Counter(tl))\n",
    "            if tl_c[\"B\"] != tl_c[\"W\"]:\n",
    "                return True\n",
    "            #tr\n",
    "            tr = [grid[0][1], grid[0][2], grid[1][1], grid[1][2]]\n",
    "            tr_c = dict(Counter(tr))\n",
    "            if tr_c[\"B\"] != tr_c[\"W\"]:\n",
    "                return True\n",
    "\n",
    "            #bl\n",
    "            bl = [grid[1][0], grid[1][1], grid[2][0], grid[2][1]]\n",
    "            bl_c = dict(Counter(bl))\n",
    "            if bl_c[\"B\"] != bl_c[\"W\"]:\n",
    "                return True\n",
    "            \n",
    "            #br\n",
    "            br = [grid[1][1], grid[1][2], grid[2][1], grid[2][2]]\n",
    "            br_c = dict(Counter(br))\n",
    "            if br_c[\"B\"] != br_c[\"W\"]:\n",
    "                return True\n",
    "\n",
    "            return False\n",
    "        except:\n",
    "            return True"
   ]
  },
  {
   "cell_type": "markdown",
   "metadata": {},
   "source": [
    "# Solutions"
   ]
  },
  {
   "cell_type": "code",
   "execution_count": 4,
   "metadata": {},
   "outputs": [],
   "source": [
    "a = Solution()"
   ]
  },
  {
   "cell_type": "code",
   "execution_count": 5,
   "metadata": {},
   "outputs": [
    {
     "name": "stdout",
     "output_type": "stream",
     "text": [
      "35\n"
     ]
    }
   ],
   "source": [
    "# Max Increase to Keep City Skyline\n",
    "grid = [[3,0,8,4],[2,4,5,7],[9,2,6,3],[0,3,1,0]]\n",
    "\n",
    "print(a.maxIncreaseKeepingSkyline(\n",
    "    grid\n",
    "    )\n",
    ")"
   ]
  },
  {
   "cell_type": "code",
   "execution_count": null,
   "metadata": {},
   "outputs": [],
   "source": []
  }
 ],
 "metadata": {
  "kernelspec": {
   "display_name": ".venv",
   "language": "python",
   "name": "python3"
  },
  "language_info": {
   "codemirror_mode": {
    "name": "ipython",
    "version": 3
   },
   "file_extension": ".py",
   "mimetype": "text/x-python",
   "name": "python",
   "nbconvert_exporter": "python",
   "pygments_lexer": "ipython3",
   "version": "3.13.3"
  }
 },
 "nbformat": 4,
 "nbformat_minor": 2
}
