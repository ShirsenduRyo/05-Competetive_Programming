{
 "cells": [
  {
   "cell_type": "code",
   "execution_count": 2,
   "metadata": {},
   "outputs": [],
   "source": [
    "from typing import List"
   ]
  },
  {
   "cell_type": "code",
   "execution_count": 10,
   "metadata": {},
   "outputs": [],
   "source": [
    "class Solution:\n",
    "    def twoSum(self, nums: List[int], target: int) -> List[int]:\n",
    "        num_to_index = {}\n",
    "        for i, num in enumerate(nums):\n",
    "            complement = target - num # Calculate the complement of the current number\n",
    "            # print(num_to_index)\n",
    "            if complement in num_to_index: # Check if the complement exists in the dictionary\n",
    "                return [num_to_index[complement], i]\n",
    "            num_to_index[num] = i # Add the current number and its index to the dictionary\n",
    "\n",
    "        def longestCommonPrefix(self, strs: List[str]) -> str:\n",
    "            if len(strs) == 0:\n",
    "                return \"\"\n",
    "            \n",
    "            prefix = \"\"\n",
    "            ref = strs[0] # Initialize 1st string\n",
    "            \n",
    "            for i in range(len(ref)):\n",
    "                currentChar = ref[i]\n",
    "                \n",
    "                for j in range(1, len(strs)): # Compare the current character with the characters in the other strings\n",
    "                    if i >= len(strs[j]) or strs[j][i] != currentChar:\n",
    "                        return prefix\n",
    "                \n",
    "                prefix += currentChar\n",
    "            \n",
    "            return prefix"
   ]
  },
  {
   "cell_type": "code",
   "execution_count": 11,
   "metadata": {},
   "outputs": [],
   "source": [
    "a = Solution()"
   ]
  },
  {
   "cell_type": "code",
   "execution_count": 13,
   "metadata": {},
   "outputs": [
    {
     "name": "stdout",
     "output_type": "stream",
     "text": [
      "{}\n",
      "{2: 0}\n",
      "{2: 0, 7: 1}\n",
      "{2: 0, 7: 1, 11: 2}\n",
      "[0, 3]\n"
     ]
    }
   ],
   "source": [
    "# Two Sum Problem \n",
    "\n",
    "\n",
    "print(a.twoSum(\n",
    "    nums = [2,7,11,15], \n",
    "    target = 17\n",
    "    )\n",
    ")"
   ]
  },
  {
   "cell_type": "code",
   "execution_count": null,
   "metadata": {},
   "outputs": [],
   "source": []
  }
 ],
 "metadata": {
  "kernelspec": {
   "display_name": ".venv",
   "language": "python",
   "name": "python3"
  },
  "language_info": {
   "codemirror_mode": {
    "name": "ipython",
    "version": 3
   },
   "file_extension": ".py",
   "mimetype": "text/x-python",
   "name": "python",
   "nbconvert_exporter": "python",
   "pygments_lexer": "ipython3",
   "version": "3.13.3"
  }
 },
 "nbformat": 4,
 "nbformat_minor": 2
}
