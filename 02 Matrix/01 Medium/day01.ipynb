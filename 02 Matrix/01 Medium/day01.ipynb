{
 "cells": [
  {
   "cell_type": "code",
   "execution_count": 1,
   "metadata": {},
   "outputs": [],
   "source": [
    "from typing import List"
   ]
  },
  {
   "cell_type": "code",
   "execution_count": 2,
   "metadata": {},
   "outputs": [],
   "source": [
    "class Solution:\n",
    "    def maxIncreaseKeepingSkyline(self, grid: List[List[int]]) -> int:\n",
    "        n = len(grid)\n",
    "        \n",
    "        rowMax = [max(row) for row in grid]\n",
    "        \n",
    "        colMax = [max(grid[r][c] for r in range(n)) for c in range(n)]\n",
    "        \n",
    "        total_increase = 0\n",
    "        for r in range(n):\n",
    "            for c in range(n):\n",
    "                allowed = min(rowMax[r], colMax[c])\n",
    "                total_increase += allowed - grid[r][c]\n",
    "        \n",
    "        return total_increase"
   ]
  },
  {
   "cell_type": "markdown",
   "metadata": {},
   "source": [
    "# Solutions"
   ]
  },
  {
   "cell_type": "code",
   "execution_count": 4,
   "metadata": {},
   "outputs": [],
   "source": [
    "a = Solution()"
   ]
  },
  {
   "cell_type": "code",
   "execution_count": 5,
   "metadata": {},
   "outputs": [
    {
     "name": "stdout",
     "output_type": "stream",
     "text": [
      "35\n"
     ]
    }
   ],
   "source": [
    "# Max Increase to Keep City Skyline\n",
    "grid = [[3,0,8,4],[2,4,5,7],[9,2,6,3],[0,3,1,0]]\n",
    "\n",
    "print(a.maxIncreaseKeepingSkyline(\n",
    "    grid\n",
    "    )\n",
    ")"
   ]
  },
  {
   "cell_type": "code",
   "execution_count": null,
   "metadata": {},
   "outputs": [],
   "source": []
  }
 ],
 "metadata": {
  "kernelspec": {
   "display_name": ".venv",
   "language": "python",
   "name": "python3"
  },
  "language_info": {
   "codemirror_mode": {
    "name": "ipython",
    "version": 3
   },
   "file_extension": ".py",
   "mimetype": "text/x-python",
   "name": "python",
   "nbconvert_exporter": "python",
   "pygments_lexer": "ipython3",
   "version": "3.13.3"
  }
 },
 "nbformat": 4,
 "nbformat_minor": 2
}
