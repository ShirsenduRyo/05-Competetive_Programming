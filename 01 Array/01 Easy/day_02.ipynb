{
 "cells": [
  {
   "cell_type": "code",
   "execution_count": 18,
   "metadata": {},
   "outputs": [],
   "source": [
    "from typing import List"
   ]
  },
  {
   "cell_type": "code",
   "execution_count": 19,
   "metadata": {},
   "outputs": [],
   "source": [
    "class Solution:\n",
    "    # def SearchInsertPosition : Easy\n",
    "    def plusOne(self, digits: List[int]) -> List[int]:\n",
    "        l = len(digits)\n",
    "        nums = 0\n",
    "        for i,k in enumerate(digits):\n",
    "            p = l-1-i\n",
    "            nums += k*(10**(p))\n",
    "            # print(nums)\n",
    "        nums += 1\n",
    "        return list(map(int, str(nums)))\n",
    "    \n",
    "    def merge(self, nums1: List[int], m: int, nums2: List[int], n: int) -> None:\n",
    "        \"\"\"\n",
    "        Do not return anything, modify nums1 in-place instead.\n",
    "        \"\"\"\n",
    "        end_n1 = m - 1\n",
    "        end_n2 = n - 1\n",
    "        insert_pos = m + n - 1\n",
    "\n",
    "        while end_n1 >= 0 and end_n2 >= 0:\n",
    "            if nums1[end_n1] >= nums2[end_n2]:\n",
    "                nums1[insert_pos] = nums1[end_n1]\n",
    "                end_n1 -= 1\n",
    "            else:\n",
    "                nums1[insert_pos] = nums2[end_n2]\n",
    "                end_n2 -= 1\n",
    "            insert_pos -= 1\n",
    "\n",
    "        while end_n2 >= 0:\n",
    "            nums1[insert_pos] = nums2[end_n2]\n",
    "            insert_pos -= 1\n",
    "            end_n2 -= 1\n",
    "    \n",
    "    def pascalTriangle(self, numRows: int) -> List[List[int]]:\n",
    "        if numRows == 0:\n",
    "            return []\n",
    "        else:\n",
    "            triangle = [[1]]\n",
    "\n",
    "            for _ in range(1, numRows):\n",
    "                prev = triangle[-1]\n",
    "                row = [1] + [prev[i] + prev[i+1] for i in range(len(prev)-1)] + [1]\n",
    "                triangle.append(row)\n",
    "\n",
    "            return triangle\n",
    "            "
   ]
  },
  {
   "cell_type": "code",
   "execution_count": 20,
   "metadata": {},
   "outputs": [],
   "source": [
    "b = Solution()"
   ]
  },
  {
   "cell_type": "markdown",
   "metadata": {},
   "source": [
    "Plus One"
   ]
  },
  {
   "cell_type": "code",
   "execution_count": 21,
   "metadata": {},
   "outputs": [
    {
     "name": "stdout",
     "output_type": "stream",
     "text": [
      "[1, 0, 0, 0]\n"
     ]
    }
   ],
   "source": [
    "print(b.plusOne([9,9,9]))"
   ]
  },
  {
   "cell_type": "markdown",
   "metadata": {},
   "source": [
    "Merge"
   ]
  },
  {
   "cell_type": "code",
   "execution_count": 22,
   "metadata": {},
   "outputs": [
    {
     "data": {
      "text/plain": [
       "[1, 2, 2, 3, 5, 6]"
      ]
     },
     "execution_count": 22,
     "metadata": {},
     "output_type": "execute_result"
    }
   ],
   "source": [
    "nums1, m, nums2, n = [1,2,3,0,0,0], 3, [2,5,6], 3\n",
    "b.merge(nums1, m, nums2, n)\n",
    "nums1"
   ]
  },
  {
   "cell_type": "code",
   "execution_count": 23,
   "metadata": {},
   "outputs": [
    {
     "name": "stdout",
     "output_type": "stream",
     "text": [
      "[[1], [1, 1], [1, 2, 1], [1, 3, 3, 1], [1, 4, 6, 4, 1], [1, 5, 10, 10, 5, 1], [1, 6, 15, 20, 15, 6, 1]]\n"
     ]
    }
   ],
   "source": [
    "print(b.pascalTriangle(7))"
   ]
  },
  {
   "cell_type": "code",
   "execution_count": null,
   "metadata": {},
   "outputs": [],
   "source": []
  }
 ],
 "metadata": {
  "kernelspec": {
   "display_name": ".venv",
   "language": "python",
   "name": "python3"
  },
  "language_info": {
   "codemirror_mode": {
    "name": "ipython",
    "version": 3
   },
   "file_extension": ".py",
   "mimetype": "text/x-python",
   "name": "python",
   "nbconvert_exporter": "python",
   "pygments_lexer": "ipython3",
   "version": "3.13.3"
  }
 },
 "nbformat": 4,
 "nbformat_minor": 2
}
