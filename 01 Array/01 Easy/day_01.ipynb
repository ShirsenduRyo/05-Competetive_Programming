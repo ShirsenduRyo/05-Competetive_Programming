{
 "cells": [
  {
   "cell_type": "code",
   "execution_count": 10,
   "metadata": {},
   "outputs": [],
   "source": [
    "from typing import List"
   ]
  },
  {
   "cell_type": "code",
   "execution_count": 11,
   "metadata": {},
   "outputs": [],
   "source": [
    "class Solution:\n",
    "    def twoSum(self, nums: List[int], target: int) -> List[int]:\n",
    "        num_to_index = {}\n",
    "        for i, num in enumerate(nums):\n",
    "            complement = target - num # Calculate the complement of the current number\n",
    "            # print(num_to_index)\n",
    "            if complement in num_to_index: # Check if the complement exists in the dictionary\n",
    "                return [num_to_index[complement], i]\n",
    "            num_to_index[num] = i # Add the current number and its index to the dictionary\n",
    "\n",
    "    def longestCommonPrefix(self, strs: List[str]) -> str:\n",
    "        if len(strs) == 0:\n",
    "            return \"\"\n",
    "        \n",
    "        prefix = \"\"\n",
    "        ref = strs[0] # Initialize 1st string\n",
    "\n",
    "        \n",
    "        for i in range(len(ref)):\n",
    "            currentChar = ref[i]\n",
    "            \n",
    "            for j in range(1, len(strs)): # Compare the current character with the characters in the other strings\n",
    "                if i >= len(strs[j]) or strs[j][i] != currentChar:\n",
    "                    return prefix\n",
    "            \n",
    "            prefix += currentChar\n",
    "        \n",
    "        return prefix\n",
    "    \n",
    "\n",
    "    def removeDuplicates(self, nums: List[int]) -> int:\n",
    "        if not nums:\n",
    "            return 0\n",
    "        \n",
    "        # pointer for the position of unique elements\n",
    "        k = 1  \n",
    "        for i in range(1, len(nums)):\n",
    "            print(f\"Loop {i}\")\n",
    "            if nums[i] != nums[k-1]:\n",
    "                print(f\"nums[i] = {i},{nums[i]}\")\n",
    "                print(f\"nums[k-1] = {k-1},{nums[k-1]}\")\n",
    "                nums[k] = nums[i]\n",
    "                k += 1\n",
    "            print(f\"Resultant list: {nums}\")\n",
    "        \n",
    "        return k\n",
    "    \n",
    "    def removeElement(self, nums: List[int], val: int) -> int:\n",
    "        p = 0\n",
    "        for i in range(len(nums)):\n",
    "            if nums[i] != val:\n",
    "                nums[p] = nums[i]\n",
    "                p += 1\n",
    "        return p"
   ]
  },
  {
   "cell_type": "markdown",
   "metadata": {},
   "source": [
    "# Solutions"
   ]
  },
  {
   "cell_type": "code",
   "execution_count": 12,
   "metadata": {},
   "outputs": [],
   "source": [
    "a = Solution()"
   ]
  },
  {
   "cell_type": "code",
   "execution_count": 13,
   "metadata": {},
   "outputs": [
    {
     "name": "stdout",
     "output_type": "stream",
     "text": [
      "[0, 3]\n"
     ]
    }
   ],
   "source": [
    "# Two Sum Problem \n",
    "\n",
    "\n",
    "print(a.twoSum(\n",
    "    nums = [2,7,11,15], \n",
    "    target = 17\n",
    "    )\n",
    ")"
   ]
  },
  {
   "cell_type": "code",
   "execution_count": 14,
   "metadata": {},
   "outputs": [
    {
     "name": "stdout",
     "output_type": "stream",
     "text": [
      "fl\n"
     ]
    }
   ],
   "source": [
    "# Longest Common Prefix\n",
    "\n",
    "print(a.longestCommonPrefix(\n",
    "    strs = [\"flower\",\"flow\",\"flight\"]\n",
    "    )\n",
    ")\n"
   ]
  },
  {
   "cell_type": "markdown",
   "metadata": {},
   "source": [
    "# 3. Duplicates"
   ]
  },
  {
   "cell_type": "code",
   "execution_count": 15,
   "metadata": {},
   "outputs": [
    {
     "name": "stdout",
     "output_type": "stream",
     "text": [
      "Loop 1\n",
      "Resultant list: [1, 1, 2, 2, 3, 3, 4, 4, 5, 5]\n",
      "Loop 2\n",
      "nums[i] = 2,2\n",
      "nums[k-1] = 0,1\n",
      "Resultant list: [1, 2, 2, 2, 3, 3, 4, 4, 5, 5]\n",
      "Loop 3\n",
      "Resultant list: [1, 2, 2, 2, 3, 3, 4, 4, 5, 5]\n",
      "Loop 4\n",
      "nums[i] = 4,3\n",
      "nums[k-1] = 1,2\n",
      "Resultant list: [1, 2, 3, 2, 3, 3, 4, 4, 5, 5]\n",
      "Loop 5\n",
      "Resultant list: [1, 2, 3, 2, 3, 3, 4, 4, 5, 5]\n",
      "Loop 6\n",
      "nums[i] = 6,4\n",
      "nums[k-1] = 2,3\n",
      "Resultant list: [1, 2, 3, 4, 3, 3, 4, 4, 5, 5]\n",
      "Loop 7\n",
      "Resultant list: [1, 2, 3, 4, 3, 3, 4, 4, 5, 5]\n",
      "Loop 8\n",
      "nums[i] = 8,5\n",
      "nums[k-1] = 3,4\n",
      "Resultant list: [1, 2, 3, 4, 5, 3, 4, 4, 5, 5]\n",
      "Loop 9\n",
      "Resultant list: [1, 2, 3, 4, 5, 3, 4, 4, 5, 5]\n",
      "5\n",
      "[1, 2, 3, 4, 5, 3, 4, 4, 5, 5]\n"
     ]
    }
   ],
   "source": [
    "# Remove Duplicates\n",
    "nums = [1,1,2,2,3,3,4,4,5,5]\n",
    "\n",
    "print(a.removeDuplicates(nums))\n",
    "\n",
    "print(nums)\n"
   ]
  },
  {
   "cell_type": "markdown",
   "metadata": {},
   "source": [
    "# 4. Remove Duplicates"
   ]
  },
  {
   "cell_type": "code",
   "execution_count": 16,
   "metadata": {},
   "outputs": [
    {
     "name": "stdout",
     "output_type": "stream",
     "text": [
      "5\n",
      "[0, 1, 3, 0, 4, 0, 4, 2]\n"
     ]
    }
   ],
   "source": [
    "nums = [0,1,2,2,3,0,4,2]\n",
    "val = 2\n",
    "\n",
    "print(a.removeElement(nums, val))\n",
    "\n",
    "print(nums)\n"
   ]
  },
  {
   "cell_type": "code",
   "execution_count": null,
   "metadata": {},
   "outputs": [],
   "source": []
  }
 ],
 "metadata": {
  "kernelspec": {
   "display_name": ".venv",
   "language": "python",
   "name": "python3"
  },
  "language_info": {
   "codemirror_mode": {
    "name": "ipython",
    "version": 3
   },
   "file_extension": ".py",
   "mimetype": "text/x-python",
   "name": "python",
   "nbconvert_exporter": "python",
   "pygments_lexer": "ipython3",
   "version": "3.13.3"
  }
 },
 "nbformat": 4,
 "nbformat_minor": 2
}
